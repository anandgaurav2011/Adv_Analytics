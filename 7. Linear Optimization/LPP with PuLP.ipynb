{
 "cells": [
  {
   "cell_type": "code",
   "execution_count": 1,
   "metadata": {},
   "outputs": [],
   "source": [
    "import pulp as p"
   ]
  },
  {
   "cell_type": "markdown",
   "metadata": {},
   "source": [
    "# Problem 1"
   ]
  },
  {
   "cell_type": "markdown",
   "metadata": {},
   "source": [
    "### Maximization"
   ]
  },
  {
   "cell_type": "code",
   "execution_count": 2,
   "metadata": {},
   "outputs": [],
   "source": [
    "Lp_prob = p.LpProblem('Problem1', p.LpMaximize)"
   ]
  },
  {
   "cell_type": "markdown",
   "metadata": {},
   "source": [
    "### Decision Variables "
   ]
  },
  {
   "cell_type": "code",
   "execution_count": 3,
   "metadata": {},
   "outputs": [],
   "source": [
    "x1 = p.LpVariable(\"x1\", lowBound = 0) # Create a variable x >= 0\n",
    "x2 = p.LpVariable(\"x2\", lowBound = 0) # Create a variable y >= 0"
   ]
  },
  {
   "cell_type": "markdown",
   "metadata": {},
   "source": [
    "### Objective Function "
   ]
  },
  {
   "cell_type": "code",
   "execution_count": 4,
   "metadata": {},
   "outputs": [],
   "source": [
    "Lp_prob += 5*x1 + 7*x2"
   ]
  },
  {
   "cell_type": "markdown",
   "metadata": {},
   "source": [
    "### Constraints "
   ]
  },
  {
   "cell_type": "code",
   "execution_count": 5,
   "metadata": {},
   "outputs": [],
   "source": [
    "Lp_prob += 1*x1 + 0*x2 <= 6\n",
    "Lp_prob += 2*x1 + 3*x2 <= 19\n",
    "Lp_prob += 1*x1 + 1*x2 <= 8"
   ]
  },
  {
   "cell_type": "code",
   "execution_count": 6,
   "metadata": {},
   "outputs": [
    {
     "name": "stdout",
     "output_type": "stream",
     "text": [
      "Problem1:\n",
      "MAXIMIZE\n",
      "5*x1 + 7*x2 + 0\n",
      "SUBJECT TO\n",
      "_C1: x1 <= 6\n",
      "\n",
      "_C2: 2 x1 + 3 x2 <= 19\n",
      "\n",
      "_C3: x1 + x2 <= 8\n",
      "\n",
      "VARIABLES\n",
      "x1 Continuous\n",
      "x2 Continuous\n",
      "\n"
     ]
    }
   ],
   "source": [
    "print(Lp_prob)"
   ]
  },
  {
   "cell_type": "markdown",
   "metadata": {},
   "source": [
    "### Solving the LPP "
   ]
  },
  {
   "cell_type": "code",
   "execution_count": 7,
   "metadata": {},
   "outputs": [
    {
     "name": "stdout",
     "output_type": "stream",
     "text": [
      "Optimal\n"
     ]
    }
   ],
   "source": [
    "status = Lp_prob.solve()\n",
    "print(p.LpStatus[status])"
   ]
  },
  {
   "cell_type": "markdown",
   "metadata": {},
   "source": [
    "### Solution "
   ]
  },
  {
   "cell_type": "code",
   "execution_count": 8,
   "metadata": {},
   "outputs": [
    {
     "name": "stdout",
     "output_type": "stream",
     "text": [
      "x1 = 5.0\n",
      "x2 = 3.0\n",
      "Objective =  46.0\n"
     ]
    }
   ],
   "source": [
    "print(\"x1 =\", p.value(x1)) \n",
    "print(\"x2 =\", p.value(x2))\n",
    "print(\"Objective = \", p.value(Lp_prob.objective))"
   ]
  },
  {
   "cell_type": "code",
   "execution_count": null,
   "metadata": {},
   "outputs": [],
   "source": []
  },
  {
   "cell_type": "markdown",
   "metadata": {},
   "source": [
    "# Problem 2"
   ]
  },
  {
   "cell_type": "markdown",
   "metadata": {},
   "source": [
    "### Minimization"
   ]
  },
  {
   "cell_type": "code",
   "execution_count": 9,
   "metadata": {},
   "outputs": [],
   "source": [
    "Lp_prob = p.LpProblem('Breweries', p.LpMinimize)"
   ]
  },
  {
   "cell_type": "markdown",
   "metadata": {},
   "source": [
    "### Decision Variables "
   ]
  },
  {
   "cell_type": "code",
   "execution_count": 10,
   "metadata": {},
   "outputs": [],
   "source": [
    "x1 = p.LpVariable(\"Solan\", lowBound = 0, ) # Create a variable x >= 0\n",
    "x2 = p.LpVariable(\"Mohan Nagar\", lowBound = 0) # Create a variable y >= 0"
   ]
  },
  {
   "cell_type": "markdown",
   "metadata": {},
   "source": [
    "### Objective Function "
   ]
  },
  {
   "cell_type": "code",
   "execution_count": 11,
   "metadata": {},
   "outputs": [],
   "source": [
    "Lp_prob += 600*x1 + 400*x2"
   ]
  },
  {
   "cell_type": "markdown",
   "metadata": {},
   "source": [
    "### Constraints "
   ]
  },
  {
   "cell_type": "code",
   "execution_count": 12,
   "metadata": {},
   "outputs": [],
   "source": [
    "Lp_prob += 1500*x1 + 1500*x2 >= 20000\n",
    "Lp_prob += 3000*x1 + 1000*x2 >= 40000\n",
    "Lp_prob += 2000*x1 + 5000*x2 >= 44000\n",
    "Lp_prob += 1*x1 + 0*x2 <= 30\n",
    "Lp_prob += 0*x1 + 1*x2 <= 30"
   ]
  },
  {
   "cell_type": "code",
   "execution_count": 13,
   "metadata": {},
   "outputs": [
    {
     "name": "stdout",
     "output_type": "stream",
     "text": [
      "Breweries:\n",
      "MINIMIZE\n",
      "400*Mohan_Nagar + 600*Solan + 0\n",
      "SUBJECT TO\n",
      "_C1: 1500 Mohan_Nagar + 1500 Solan >= 20000\n",
      "\n",
      "_C2: 1000 Mohan_Nagar + 3000 Solan >= 40000\n",
      "\n",
      "_C3: 5000 Mohan_Nagar + 2000 Solan >= 44000\n",
      "\n",
      "_C4: Solan <= 30\n",
      "\n",
      "_C5: Mohan_Nagar <= 30\n",
      "\n",
      "VARIABLES\n",
      "Mohan_Nagar Continuous\n",
      "Solan Continuous\n",
      "\n"
     ]
    }
   ],
   "source": [
    "print(Lp_prob)"
   ]
  },
  {
   "cell_type": "markdown",
   "metadata": {},
   "source": [
    "### Solving the LPP "
   ]
  },
  {
   "cell_type": "code",
   "execution_count": 14,
   "metadata": {},
   "outputs": [
    {
     "name": "stdout",
     "output_type": "stream",
     "text": [
      "Optimal\n"
     ]
    }
   ],
   "source": [
    "status = Lp_prob.solve()\n",
    "print(p.LpStatus[status])"
   ]
  },
  {
   "cell_type": "markdown",
   "metadata": {},
   "source": [
    "### Solution "
   ]
  },
  {
   "cell_type": "code",
   "execution_count": 15,
   "metadata": {},
   "outputs": [
    {
     "name": "stdout",
     "output_type": "stream",
     "text": [
      "x1 = 12.0\n",
      "x2 = 4.0\n",
      "Objective =  8800.0\n"
     ]
    }
   ],
   "source": [
    "print(\"x1 =\", p.value(x1)) \n",
    "print(\"x2 =\", p.value(x2))\n",
    "print(\"Objective = \", p.value(Lp_prob.objective))"
   ]
  },
  {
   "cell_type": "code",
   "execution_count": null,
   "metadata": {},
   "outputs": [],
   "source": []
  },
  {
   "cell_type": "markdown",
   "metadata": {},
   "source": [
    "# Problem 3"
   ]
  },
  {
   "cell_type": "markdown",
   "metadata": {},
   "source": [
    "### Minimization"
   ]
  },
  {
   "cell_type": "code",
   "execution_count": 16,
   "metadata": {},
   "outputs": [],
   "source": [
    "Lp_prob = p.LpProblem('Manufacturing', p.LpMaximize)"
   ]
  },
  {
   "cell_type": "markdown",
   "metadata": {},
   "source": [
    "### Decision Variables "
   ]
  },
  {
   "cell_type": "code",
   "execution_count": 17,
   "metadata": {},
   "outputs": [],
   "source": [
    "x1 = p.LpVariable(\"A\", lowBound = 0, ) # Create a variable x >= 0\n",
    "x2 = p.LpVariable(\"B\", lowBound = 0) # Create a variable y >= 0"
   ]
  },
  {
   "cell_type": "markdown",
   "metadata": {},
   "source": [
    "### Objective Function "
   ]
  },
  {
   "cell_type": "code",
   "execution_count": 18,
   "metadata": {},
   "outputs": [],
   "source": [
    "Lp_prob += 40*x1 + 100*x2"
   ]
  },
  {
   "cell_type": "markdown",
   "metadata": {},
   "source": [
    "### Constraints "
   ]
  },
  {
   "cell_type": "code",
   "execution_count": 19,
   "metadata": {},
   "outputs": [],
   "source": [
    "Lp_prob += 12*x1 + 6*x2 <= 3000\n",
    "Lp_prob += 4*x1 + 10*x2 <= 2000\n",
    "Lp_prob += 2*x1 + 3*x2 <= 900"
   ]
  },
  {
   "cell_type": "code",
   "execution_count": 20,
   "metadata": {},
   "outputs": [
    {
     "name": "stdout",
     "output_type": "stream",
     "text": [
      "Manufacturing:\n",
      "MAXIMIZE\n",
      "40*A + 100*B + 0\n",
      "SUBJECT TO\n",
      "_C1: 12 A + 6 B <= 3000\n",
      "\n",
      "_C2: 4 A + 10 B <= 2000\n",
      "\n",
      "_C3: 2 A + 3 B <= 900\n",
      "\n",
      "VARIABLES\n",
      "A Continuous\n",
      "B Continuous\n",
      "\n"
     ]
    }
   ],
   "source": [
    "print(Lp_prob)"
   ]
  },
  {
   "cell_type": "markdown",
   "metadata": {},
   "source": [
    "### Solving the LPP "
   ]
  },
  {
   "cell_type": "code",
   "execution_count": 21,
   "metadata": {},
   "outputs": [
    {
     "name": "stdout",
     "output_type": "stream",
     "text": [
      "Optimal\n"
     ]
    }
   ],
   "source": [
    "status = Lp_prob.solve()\n",
    "print(p.LpStatus[status])"
   ]
  },
  {
   "cell_type": "markdown",
   "metadata": {},
   "source": [
    "### Solution "
   ]
  },
  {
   "cell_type": "code",
   "execution_count": 22,
   "metadata": {},
   "outputs": [
    {
     "name": "stdout",
     "output_type": "stream",
     "text": [
      "x1 = 0.0\n",
      "x2 = 200.0\n",
      "Objective =  20000.0\n"
     ]
    }
   ],
   "source": [
    "print(\"x1 =\", p.value(x1)) \n",
    "print(\"x2 =\", p.value(x2))\n",
    "print(\"Objective = \", p.value(Lp_prob.objective))"
   ]
  },
  {
   "cell_type": "code",
   "execution_count": null,
   "metadata": {},
   "outputs": [],
   "source": []
  },
  {
   "cell_type": "markdown",
   "metadata": {},
   "source": [
    "# Problem 4"
   ]
  },
  {
   "cell_type": "markdown",
   "metadata": {},
   "source": [
    "### Minimization"
   ]
  },
  {
   "cell_type": "code",
   "execution_count": 23,
   "metadata": {},
   "outputs": [],
   "source": [
    "Lp_prob = p.LpProblem('Shampoo', p.LpMinimize)"
   ]
  },
  {
   "cell_type": "markdown",
   "metadata": {},
   "source": [
    "### Decision Variables "
   ]
  },
  {
   "cell_type": "code",
   "execution_count": 24,
   "metadata": {},
   "outputs": [],
   "source": [
    "x1 = p.LpVariable(\"Plant I\", lowBound = 0, ) # Create a variable x >= 0\n",
    "x2 = p.LpVariable(\"Plant II\", lowBound = 0) # Create a variable y >= 0"
   ]
  },
  {
   "cell_type": "markdown",
   "metadata": {},
   "source": [
    "### Objective Function "
   ]
  },
  {
   "cell_type": "code",
   "execution_count": 25,
   "metadata": {},
   "outputs": [],
   "source": [
    "Lp_prob += 700*x1 + 550*x2"
   ]
  },
  {
   "cell_type": "markdown",
   "metadata": {},
   "source": [
    "### Constraints "
   ]
  },
  {
   "cell_type": "code",
   "execution_count": 26,
   "metadata": {},
   "outputs": [],
   "source": [
    "Lp_prob += 3000*x1 + 1000*x2 >= 24000\n",
    "Lp_prob += 1000*x1 + 1000*x2 >= 16000\n",
    "Lp_prob += 2000*x1 + 6000*x2 >= 48000"
   ]
  },
  {
   "cell_type": "code",
   "execution_count": 27,
   "metadata": {},
   "outputs": [
    {
     "name": "stdout",
     "output_type": "stream",
     "text": [
      "Shampoo:\n",
      "MINIMIZE\n",
      "700*Plant_I + 550*Plant_II + 0\n",
      "SUBJECT TO\n",
      "_C1: 3000 Plant_I + 1000 Plant_II >= 24000\n",
      "\n",
      "_C2: 1000 Plant_I + 1000 Plant_II >= 16000\n",
      "\n",
      "_C3: 2000 Plant_I + 6000 Plant_II >= 48000\n",
      "\n",
      "VARIABLES\n",
      "Plant_I Continuous\n",
      "Plant_II Continuous\n",
      "\n"
     ]
    }
   ],
   "source": [
    "print(Lp_prob)"
   ]
  },
  {
   "cell_type": "markdown",
   "metadata": {},
   "source": [
    "### Solving the LPP "
   ]
  },
  {
   "cell_type": "code",
   "execution_count": 28,
   "metadata": {},
   "outputs": [
    {
     "name": "stdout",
     "output_type": "stream",
     "text": [
      "Optimal\n"
     ]
    }
   ],
   "source": [
    "status = Lp_prob.solve()\n",
    "print(p.LpStatus[status])"
   ]
  },
  {
   "cell_type": "markdown",
   "metadata": {},
   "source": [
    "### Solution "
   ]
  },
  {
   "cell_type": "code",
   "execution_count": 29,
   "metadata": {},
   "outputs": [
    {
     "name": "stdout",
     "output_type": "stream",
     "text": [
      "x1 = 4.0\n",
      "x2 = 12.0\n",
      "Objective =  9400.0\n"
     ]
    }
   ],
   "source": [
    "print(\"x1 =\", p.value(x1)) \n",
    "print(\"x2 =\", p.value(x2))\n",
    "print(\"Objective = \", p.value(Lp_prob.objective))"
   ]
  },
  {
   "cell_type": "code",
   "execution_count": null,
   "metadata": {},
   "outputs": [],
   "source": []
  },
  {
   "cell_type": "markdown",
   "metadata": {},
   "source": [
    "# Problem 5"
   ]
  },
  {
   "cell_type": "markdown",
   "metadata": {},
   "source": [
    "### Minimization"
   ]
  },
  {
   "cell_type": "code",
   "execution_count": 30,
   "metadata": {},
   "outputs": [],
   "source": [
    "Lp_prob = p.LpProblem('Nirmitee', p.LpMinimize)"
   ]
  },
  {
   "cell_type": "markdown",
   "metadata": {},
   "source": [
    "### Decision Variables "
   ]
  },
  {
   "cell_type": "code",
   "execution_count": 31,
   "metadata": {},
   "outputs": [],
   "source": [
    "x1 = p.LpVariable(\"Corn\", lowBound = 0, ) # Create a variable x >= 0\n",
    "x2 = p.LpVariable(\"Soyabean\", lowBound = 0) # Create a variable y >= 0"
   ]
  },
  {
   "cell_type": "markdown",
   "metadata": {},
   "source": [
    "### Objective Function "
   ]
  },
  {
   "cell_type": "code",
   "execution_count": 32,
   "metadata": {},
   "outputs": [],
   "source": [
    "Lp_prob += 0.3*x1 + 0.9*x2"
   ]
  },
  {
   "cell_type": "markdown",
   "metadata": {},
   "source": [
    "### Constraints "
   ]
  },
  {
   "cell_type": "code",
   "execution_count": 33,
   "metadata": {},
   "outputs": [],
   "source": [
    "Lp_prob += 0.09*x1 + 0.6*x2 >= 240\n",
    "Lp_prob += 0.02*x1 + 0.06*x2 <= 40\n",
    "Lp_prob += x1 + x2 >= 800"
   ]
  },
  {
   "cell_type": "code",
   "execution_count": 34,
   "metadata": {},
   "outputs": [
    {
     "name": "stdout",
     "output_type": "stream",
     "text": [
      "Nirmitee:\n",
      "MINIMIZE\n",
      "0.3*Corn + 0.9*Soyabean + 0.0\n",
      "SUBJECT TO\n",
      "_C1: 0.09 Corn + 0.6 Soyabean >= 240\n",
      "\n",
      "_C2: 0.02 Corn + 0.06 Soyabean <= 40\n",
      "\n",
      "_C3: Corn + Soyabean >= 800\n",
      "\n",
      "VARIABLES\n",
      "Corn Continuous\n",
      "Soyabean Continuous\n",
      "\n"
     ]
    }
   ],
   "source": [
    "print(Lp_prob)"
   ]
  },
  {
   "cell_type": "markdown",
   "metadata": {},
   "source": [
    "### Solving the LPP "
   ]
  },
  {
   "cell_type": "code",
   "execution_count": 35,
   "metadata": {},
   "outputs": [
    {
     "name": "stdout",
     "output_type": "stream",
     "text": [
      "Optimal\n"
     ]
    }
   ],
   "source": [
    "status = Lp_prob.solve()\n",
    "print(p.LpStatus[status])"
   ]
  },
  {
   "cell_type": "markdown",
   "metadata": {},
   "source": [
    "### Solution "
   ]
  },
  {
   "cell_type": "code",
   "execution_count": 36,
   "metadata": {},
   "outputs": [
    {
     "name": "stdout",
     "output_type": "stream",
     "text": [
      "x1 = 470.58824\n",
      "x2 = 329.41176\n",
      "Objective =  437.647056\n"
     ]
    }
   ],
   "source": [
    "print(\"x1 =\", p.value(x1)) \n",
    "print(\"x2 =\", p.value(x2))\n",
    "print(\"Objective = \", p.value(Lp_prob.objective))"
   ]
  }
 ],
 "metadata": {
  "kernelspec": {
   "display_name": "Python 3",
   "language": "python",
   "name": "python3"
  },
  "language_info": {
   "codemirror_mode": {
    "name": "ipython",
    "version": 3
   },
   "file_extension": ".py",
   "mimetype": "text/x-python",
   "name": "python",
   "nbconvert_exporter": "python",
   "pygments_lexer": "ipython3",
   "version": "3.8.3"
  }
 },
 "nbformat": 4,
 "nbformat_minor": 5
}
